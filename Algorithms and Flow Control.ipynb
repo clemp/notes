{
 "cells": [
  {
   "cell_type": "markdown",
   "metadata": {},
   "source": [
    "## Maze generation\n",
    "\n",
    "### Generate a solvable maze using algorithms"
   ]
  },
  {
   "cell_type": "code",
   "execution_count": 2,
   "metadata": {},
   "outputs": [],
   "source": [
    "import numpy as np\n",
    "import matplotlib.pyplot as plt\n",
    "\n",
    "%matplotlib inline"
   ]
  },
  {
   "cell_type": "code",
   "execution_count": 2,
   "metadata": {},
   "outputs": [
    {
     "data": {
      "text/plain": [
       "array([[0., 0., 0., ..., 0., 0., 0.],\n",
       "       [0., 0., 0., ..., 0., 0., 0.],\n",
       "       [0., 0., 0., ..., 0., 0., 0.],\n",
       "       ...,\n",
       "       [0., 0., 0., ..., 0., 0., 0.],\n",
       "       [0., 0., 0., ..., 0., 0., 0.],\n",
       "       [0., 0., 0., ..., 0., 0., 0.]])"
      ]
     },
     "execution_count": 2,
     "metadata": {},
     "output_type": "execute_result"
    }
   ],
   "source": [
    "maze = np.zeros([50, 50])\n",
    "maze"
   ]
  },
  {
   "cell_type": "code",
   "execution_count": 14,
   "metadata": {},
   "outputs": [
    {
     "data": {
      "text/plain": [
       "<matplotlib.image.AxesImage at 0x7f92ca767070>"
      ]
     },
     "execution_count": 14,
     "metadata": {},
     "output_type": "execute_result"
    },
    {
     "data": {
      "image/png": "[encoded data removed]",
      "text/plain": [
       "<Figure size 432x288 with 1 Axes>"
      ]
     },
     "metadata": {
      "needs_background": "light"
     },
     "output_type": "display_data"
    }
   ],
   "source": [
    "# Initialize maze\n",
    "maze = np.zeros([50, 50])\n",
    "\n",
    "# Fill in maze walls\n",
    "for i in range(50):\n",
    "    maze[i, 0] = 1\n",
    "    maze[i, 49] = 1\n",
    "    maze[0, i] = 1\n",
    "    maze[49, i] = 1\n",
    "    \n",
    "# Place 500 blocks in random locations\n",
    "# for i in range(500):\n",
    "#     x = np.random.randint(1, 49)\n",
    "#     y = np.random.randint(1, 49)\n",
    "#     maze[x, y] = 1\n",
    "\n",
    "# Maze algorithm #1\n",
    "for i in range(800):\n",
    "    # assign x, y randomly over each iteration\n",
    "    x = np.random.randint(1, 49)\n",
    "    y = np.random.randint(1, 49)\n",
    "    \n",
    "    # if 1 or fewer NSEW blocks around x,y are filled in, fill x,y\n",
    "    if maze[x-1,y] + maze[x+1,y] + maze[x,y+1] + maze[x,y-1] <= 1:     \n",
    "        maze[x,y] = 1\n",
    "\n",
    "# Plot the maze\n",
    "plt.imshow(maze, cmap=\"binary\")"
   ]
  },
  {
   "cell_type": "markdown",
   "metadata": {},
   "source": [
    "## Maze Solving\n",
    "### Solve the maze generated above using an algorithm"
   ]
  },
  {
   "cell_type": "code",
   "execution_count": 15,
   "metadata": {},
   "outputs": [
    {
     "name": "stdout",
     "output_type": "stream",
     "text": [
      "path start: [(1, 1)]\n",
      "---\n",
      "finished. (x,y) = (20, 20)\n",
      "number of steps: 171\n"
     ]
    }
   ],
   "source": [
    "x, y = 1, 1\n",
    "path = [(x, y)]\n",
    "print(\"path start:\", path)\n",
    "while (x, y) != (20, 20):\n",
    "    next_locations = [(x+dx, y+dy) for dx, dy\n",
    "                    in [(-1,0),(1,0),(0,-1),(0,1)]\n",
    "                    if maze[x+dx, y+dy]==0]\n",
    "    j = np.random.randint(len(next_locations))\n",
    "    x, y = next_locations[j]\n",
    "    \n",
    "    # reduce redundancy by only including new locations not \n",
    "    # already in the path\n",
    "    if (x, y) not in path:\n",
    "        path.append((x, y))\n",
    "    else:\n",
    "        # if the path was visited, trim all locations since it was visited the first time\n",
    "        k = path.index((x, y)) # find which step this location was visited\n",
    "        path = path[:k+1]\n",
    "print(\"---\")\n",
    "print(\"finished. (x,y) =\",(x, y))\n",
    "print(\"number of steps:\", len(path))"
   ]
  },
  {
   "cell_type": "code",
   "execution_count": 16,
   "metadata": {},
   "outputs": [
    {
     "data": {
      "text/plain": [
       "[<matplotlib.lines.Line2D at 0x7f92ca727e50>]"
      ]
     },
     "execution_count": 16,
     "metadata": {},
     "output_type": "execute_result"
    },
    {
     "data": {
      "image/png": "[encoded data removed]",
      "text/plain": [
       "<Figure size 432x288 with 1 Axes>"
      ]
     },
     "metadata": {
      "needs_background": "light"
     },
     "output_type": "display_data"
    }
   ],
   "source": [
    "plt.imshow(maze, cmap=\"binary\")\n",
    "plt.plot([y for x, y in path], [x for x, y in path])"
   ]
  }
 ],
 "metadata": {
  "kernelspec": {
   "display_name": "cmplxty",
   "language": "python",
   "name": "cmplxty"
  },
  "language_info": {
   "codemirror_mode": {
    "name": "ipython",
    "version": 3
   },
   "file_extension": ".py",
   "mimetype": "text/x-python",
   "name": "python",
   "nbconvert_exporter": "python",
   "pygments_lexer": "ipython3",
   "version": "3.8.0"
  }
 },
 "nbformat": 4,
 "nbformat_minor": 4
}
