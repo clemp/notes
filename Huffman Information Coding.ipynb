{
 "cells": [
  {
   "cell_type": "markdown",
   "metadata": {},
   "source": [
    "# Huffman Coding"
   ]
  },
  {
   "cell_type": "code",
   "execution_count": 1,
   "metadata": {},
   "outputs": [],
   "source": [
    "# Probabilities\n",
    "p = {'A': 0.5, 'B': 0.3, 'C': 0.1, 'D': 0.1}"
   ]
  },
  {
   "cell_type": "code",
   "execution_count": 3,
   "metadata": {},
   "outputs": [
    {
     "data": {
      "text/plain": [
       "[('A', 0.5), ('B', 0.3), ('C', 0.1), ('D', 0.1)]"
      ]
     },
     "execution_count": 3,
     "metadata": {},
     "output_type": "execute_result"
    }
   ],
   "source": [
    "dist = list(p.items())\n",
    "dist"
   ]
  },
  {
   "cell_type": "code",
   "execution_count": 49,
   "metadata": {},
   "outputs": [
    {
     "data": {
      "text/plain": [
       "['A', [['C', 'D'], 'B']]"
      ]
     },
     "execution_count": 49,
     "metadata": {},
     "output_type": "execute_result"
    }
   ],
   "source": [
    "# Takes list of tuples like above\n",
    "def tree(lst_, full=False):\n",
    "    # Step 1: Identify 2 lowest probabilities\n",
    "    sorted_dist = sorted(lst_, key = lambda x:x[1])\n",
    "    least_two_probs = sorted_dist[:2]\n",
    "    if full:\n",
    "        branch = sorted_dist[2:] + [(least_two_probs, least_two_probs[0][1] + least_two_probs[1][1])]\n",
    "    else:\n",
    "        branch = sorted_dist[2:] + [([least_two_probs[0][0], least_two_probs[1][0]], \\\n",
    "                                     least_two_probs[0][1] + least_two_probs[1][1])]\n",
    "    \n",
    "    if len(branch) == 1:\n",
    "        return branch[0][0]\n",
    "    else:\n",
    "        return tree(branch)\n",
    "\n",
    "tree(dist, full=False)"
   ]
  },
  {
   "cell_type": "code",
   "execution_count": 94,
   "metadata": {},
   "outputs": [
    {
     "data": {
      "text/plain": [
       "'00'"
      ]
     },
     "execution_count": 94,
     "metadata": {},
     "output_type": "execute_result"
    }
   ],
   "source": [
    "# Magic\n",
    "def find_char(ls, char):\n",
    "    if ls[0] == char:\n",
    "        return '0'\n",
    "    elif ls[1] == char:\n",
    "        return '1'\n",
    "    elif type(ls[0]) == list:\n",
    "        attempt = find_char(ls[0], char)\n",
    "        if attempt != None:\n",
    "            return '0' + attempt\n",
    "        else:\n",
    "            return None\n",
    "    elif type(ls[1]) == list:\n",
    "        attempt = find_char(ls[1], char)\n",
    "        if attempt != None:\n",
    "            return '1' + attempt\n",
    "        else:\n",
    "            return None\n",
    "    else:\n",
    "        return None\n",
    "# find_char(tree(dist), 'B')\n",
    "find_char([['C', 'D'], 'B'], 'C')"
   ]
  },
  {
   "cell_type": "code",
   "execution_count": 96,
   "metadata": {},
   "outputs": [
    {
     "name": "stdout",
     "output_type": "stream",
     "text": [
      "{'A': '0', 'B': '11', 'C': '100', 'D': '101'}\n",
      "011100101011011111111010110110110101001110001001101111110\n",
      "\n",
      "every letter is encoded to how many bits of information on average?\n",
      "2.0357142857142856\n"
     ]
    }
   ],
   "source": [
    "# Result\n",
    "# {'A':'0', 'B':'11', 'C':'100', 'D':'101'}\n",
    "# code = {'A':'0', 'B':'11', 'C':'100', 'D':'101'}\n",
    "\n",
    "text = 'ABCDABABBBBADDDDACBCACBABBBA'\n",
    "code = {char: find_char(tree(dist), char) for char in text}\n",
    "print(code)\n",
    "encoded = ''\n",
    "for i in range(len(text)):\n",
    "    encoded += code[text[i]]\n",
    "print(encoded)\n",
    "print(\"\\nevery letter is encoded to how many bits of information on average?\")\n",
    "print(len(encoded)/len(text))"
   ]
  },
  {
   "cell_type": "code",
   "execution_count": null,
   "metadata": {},
   "outputs": [],
   "source": [
    "def find_in_list_of_list(mylist, char):\n",
    "    for sub_list in mylist:\n",
    "        if char in sub_list:\n",
    "            return (mylist.index(sub_list), sub_list.index(char))\n",
    "    raise ValueError(\"'{char}' is not in list\".format(char = char))"
   ]
  }
 ],
 "metadata": {
  "kernelspec": {
   "display_name": "cmplxty",
   "language": "python",
   "name": "cmplxty"
  },
  "language_info": {
   "codemirror_mode": {
    "name": "ipython",
    "version": 3
   },
   "file_extension": ".py",
   "mimetype": "text/x-python",
   "name": "python",
   "nbconvert_exporter": "python",
   "pygments_lexer": "ipython3",
   "version": "3.8.0"
  }
 },
 "nbformat": 4,
 "nbformat_minor": 4
}
