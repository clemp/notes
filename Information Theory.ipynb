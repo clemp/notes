{
 "cells": [
  {
   "cell_type": "markdown",
   "metadata": {},
   "source": [
    "Calculate the information entropy of a random variable that showed the following behavior:\n",
    "A, B, B, A, C, B, A, C, A, B, C, A, A, A, A, A, A, A, C, A"
   ]
  },
  {
   "cell_type": "code",
   "execution_count": 35,
   "metadata": {},
   "outputs": [],
   "source": [
    "from matplotlib import pyplot as plt\n",
    "from math import log2\n",
    "import numpy as np\n",
    "import seaborn as sns\n",
    "import csv"
   ]
  },
  {
   "cell_type": "markdown",
   "metadata": {},
   "source": [
    "# Expected self-information"
   ]
  },
  {
   "cell_type": "code",
   "execution_count": 39,
   "metadata": {},
   "outputs": [],
   "source": [
    "observation = [\"A\", \"B\", \"B\", \"A\", \"C\", \"B\", \"A\", \"C\", \"A\", \"B\", \"C\", \"A\", \"A\", \"A\", \"A\", \"A\", \"A\", \"A\", \"C\", \"A\"]"
   ]
  },
  {
   "cell_type": "code",
   "execution_count": 40,
   "metadata": {},
   "outputs": [
    {
     "data": {
      "text/plain": [
       "{'A': 0.6, 'B': 0.2, 'C': 0.2}"
      ]
     },
     "execution_count": 40,
     "metadata": {},
     "output_type": "execute_result"
    }
   ],
   "source": [
    "# Calculate probability of each occurence\n",
    "probabilities = dict((x, observation.count(x)/len(observation)) for x in set(observation))\n",
    "probabilities"
   ]
  },
  {
   "cell_type": "code",
   "execution_count": 47,
   "metadata": {},
   "outputs": [],
   "source": [
    "# Create self-information function\n",
    "# Accepts a list of probabilities of each event\n",
    "def H(x):\n",
    "    \"\"\"\n",
    "    x: probability space\n",
    "    \"\"\"\n",
    "    self_information = sum([-1*p*log2(p) for p in x])\n",
    "    return self_information"
   ]
  },
  {
   "cell_type": "code",
   "execution_count": 51,
   "metadata": {},
   "outputs": [
    {
     "data": {
      "text/plain": [
       "1.3709505944546687"
      ]
     },
     "execution_count": 51,
     "metadata": {},
     "output_type": "execute_result"
    }
   ],
   "source": [
    "prob_space = [v for v in probabilities.values()]\n",
    "H(prob_space)"
   ]
  },
  {
   "cell_type": "code",
   "execution_count": 67,
   "metadata": {},
   "outputs": [
    {
     "name": "stdout",
     "output_type": "stream",
     "text": [
      "Expected amount of self-information:\t 1.584962500721156\n",
      "3.0\n"
     ]
    }
   ],
   "source": [
    "# 3 equally likely events\n",
    "a = H([1/3, 1/3, 1/3])\n",
    "print(\"Expected amount of self-information:\\t\", a)\n",
    "print(2**a)"
   ]
  },
  {
   "cell_type": "code",
   "execution_count": 64,
   "metadata": {},
   "outputs": [
    {
     "name": "stdout",
     "output_type": "stream",
     "text": [
      "Expected amount of self-information:\t 1.5\n",
      "2.8284271247461903\n"
     ]
    }
   ],
   "source": [
    "a = H([1/2, 1/4, 1/4])\n",
    "print(\"Expected amount of self-information:\\t\", a)\n",
    "print(2**a)"
   ]
  },
  {
   "cell_type": "code",
   "execution_count": 68,
   "metadata": {},
   "outputs": [
    {
     "name": "stdout",
     "output_type": "stream",
     "text": [
      "Expected amount of self-information:\t 2.0\n",
      "4.0\n"
     ]
    }
   ],
   "source": [
    "a = H([1/4, 1/4, 1/4, 1/4])\n",
    "print(\"Expected amount of self-information:\\t\", a)\n",
    "print(2**a)"
   ]
  },
  {
   "cell_type": "code",
   "execution_count": 70,
   "metadata": {},
   "outputs": [
    {
     "data": {
      "text/plain": [
       "1.584962500721156"
      ]
     },
     "execution_count": 70,
     "metadata": {},
     "output_type": "execute_result"
    }
   ],
   "source": [
    "# Hartley's I(A)\n",
    "# I(A) = K logb(|A|)\n",
    "a = [1, 2, 3]\n",
    "card_a = len(list(set(a)))\n",
    "log2(card_a)"
   ]
  },
  {
   "cell_type": "markdown",
   "metadata": {},
   "source": [
    "## Plotting I(X)"
   ]
  },
  {
   "cell_type": "code",
   "execution_count": 24,
   "metadata": {},
   "outputs": [
    {
     "data": {
      "text/plain": [
       "[<matplotlib.lines.Line2D at 0x7f2f0a722820>]"
      ]
     },
     "execution_count": 24,
     "metadata": {},
     "output_type": "execute_result"
    },
    {
     "data": {
      "image/png": "[encoded data removed]",
      "text/plain": [
       "<Figure size 432x288 with 1 Axes>"
      ]
     },
     "metadata": {
      "needs_background": "light"
     },
     "output_type": "display_data"
    }
   ],
   "source": [
    "info = lambda t: -1*log2(t)\n",
    "\n",
    "x = np.linspace(0.0000001, 0.9999999, 100)\n",
    "y = np.array([info(xi) for xi in x])\n",
    "\n",
    "ax = sns.lineplot(x = x, y = y)\n",
    "ax.set(xlabel=\"p\", ylabel=\"I(p)\")\n",
    "plt.plot(x, y, color=\"lightblue\")"
   ]
  },
  {
   "cell_type": "markdown",
   "metadata": {},
   "source": [
    "## Entropy of a dataset"
   ]
  },
  {
   "cell_type": "code",
   "execution_count": 35,
   "metadata": {},
   "outputs": [
    {
     "name": "stdout",
     "output_type": "stream",
     "text": [
      "Num. rows read: 20\n",
      "First 3 entries: ﻿Year: ['2001', '2002', '2003']\n",
      "First 3 entries: X (American): ['Yankees', 'Angels', 'Yankees']\n",
      "First 3 entries: Y (National): ['Diamondbacks', 'Giants', 'Marlins']\n"
     ]
    }
   ],
   "source": [
    "rows = 0\n",
    "with open('./data/world-series.csv', mode='r', encoding='utf-8') as f:\n",
    "    reader = csv.reader(f, delimiter=',')\n",
    "    # store column names\n",
    "    headers = next(reader, None)\n",
    "#     print(headers)\n",
    "    \n",
    "    # store data\n",
    "    column = dict()\n",
    "    for h in headers:\n",
    "        column[h] = []\n",
    "    \n",
    "    for row in reader:\n",
    "        for h, v in zip(headers, row):\n",
    "            column[h].append(v)\n",
    "        rows+=1\n",
    "f.close()\n",
    "print(\"Num. rows read:\", rows)\n",
    "print(\"First 3 entries: \\ufeffYear:\", column['\\ufeffYear'][:3])\n",
    "print(\"First 3 entries: X (American):\", column['X (American)'][:3])\n",
    "print(\"First 3 entries: Y (National):\", column['Y (National)'][:3])"
   ]
  },
  {
   "cell_type": "markdown",
   "metadata": {},
   "source": [
    "### Amount of uncertainty in American MLB league from 2001 - 2020"
   ]
  },
  {
   "cell_type": "code",
   "execution_count": 72,
   "metadata": {},
   "outputs": [
    {
     "name": "stdout",
     "output_type": "stream",
     "text": [
      "Num. American League World Series winners: 10\n",
      "Tally of wins:\n",
      "{'Indians': 1, 'Red Sox': 4, 'White Sox': 1, 'Angels': 1, 'Yankees': 3, 'Rangers': 2, 'Tigers': 2, 'Astros': 2, 'Rays': 2, 'Royals': 2} \n",
      "\n",
      "3.1841837197791882\n"
     ]
    }
   ],
   "source": [
    "counts_X = [column[\"X (American)\"].count(v) for v in list(set(column[\"X (American)\"]))]\n",
    "# counts = [column[\"Y (National)\"].count(v) for v in list(set(column[\"Y (National)\"]))]\n",
    "\n",
    "print(\"Num. American League World Series winners:\", len(list(set(column[\"X (American)\"]))))\n",
    "print(\"Tally of wins:\")\n",
    "print({v:column[\"X (American)\"].count(v) for v in list(set(column[\"X (American)\"]))}, \"\\n\")\n",
    "\n",
    "y_entropy = -1*sum([p*log2(p) for p in [count/sum(counts_X) for count in counts_X]])\n",
    "print(y_entropy)"
   ]
  },
  {
   "cell_type": "code",
   "execution_count": 53,
   "metadata": {},
   "outputs": [
    {
     "data": {
      "text/plain": [
       "9.08939153177016"
      ]
     },
     "execution_count": 53,
     "metadata": {},
     "output_type": "execute_result"
    }
   ],
   "source": [
    "# Effective number of teams\n",
    "pow(2, y_entropy)"
   ]
  },
  {
   "cell_type": "markdown",
   "metadata": {},
   "source": [
    "### Amount of uncertainty in National MLB league from 2001 - 2020"
   ]
  },
  {
   "cell_type": "code",
   "execution_count": 73,
   "metadata": {},
   "outputs": [
    {
     "name": "stdout",
     "output_type": "stream",
     "text": [
      "Num. National League World Series winners: 11\n",
      "Tally of wins:\n",
      "{'Phillies': 2, 'Nationals': 1, 'Rockies': 1, 'Diamondbacks': 1, 'Cubs': 1, 'Cardinals': 4, 'Mets': 1, 'Giants': 4, 'Dodgers': 3, 'Astros': 1, 'Marlins': 1} \n",
      "\n",
      "3.184183719779189\n"
     ]
    }
   ],
   "source": [
    "counts_Y = [column[\"Y (National)\"].count(v) for v in list(set(column[\"Y (National)\"]))]\n",
    "# counts = [column[\"Y (National)\"].count(v) for v in list(set(column[\"Y (National)\"]))]\n",
    "\n",
    "print(\"Num. National League World Series winners:\", len(list(set(column[\"Y (National)\"]))))\n",
    "print(\"Tally of wins:\")\n",
    "print({v:column[\"Y (National)\"].count(v) for v in list(set(column[\"Y (National)\"]))}, \"\\n\")\n",
    "\n",
    "y_entropy = -1*sum([p*log2(p) for p in [count/sum(counts_Y) for count in counts_Y]])\n",
    "print(y_entropy)"
   ]
  },
  {
   "cell_type": "markdown",
   "metadata": {},
   "source": [
    "### Information in a deck of cards"
   ]
  },
  {
   "cell_type": "code",
   "execution_count": 26,
   "metadata": {},
   "outputs": [
    {
     "data": {
      "text/plain": [
       "2.0"
      ]
     },
     "execution_count": 26,
     "metadata": {},
     "output_type": "execute_result"
    }
   ],
   "source": [
    "# Shuffle a deck of cards\n",
    "# Pick one card - a heart\n",
    "# How much information was gained about the suits?\n",
    "-1*log2(1/4)"
   ]
  },
  {
   "cell_type": "code",
   "execution_count": 27,
   "metadata": {},
   "outputs": [
    {
     "data": {
      "text/plain": [
       "3.700439718141092"
      ]
     },
     "execution_count": 27,
     "metadata": {},
     "output_type": "execute_result"
    }
   ],
   "source": [
    "# Shuffle a deck of cards\n",
    "# Pick one card - a King\n",
    "# How much information was gained about the value of cards?\n",
    "-1*log2(4/52)"
   ]
  },
  {
   "cell_type": "code",
   "execution_count": 32,
   "metadata": {},
   "outputs": [
    {
     "data": {
      "text/plain": [
       "5.700439718141092"
      ]
     },
     "execution_count": 32,
     "metadata": {},
     "output_type": "execute_result"
    }
   ],
   "source": [
    "# Shuffle a deck of cards\n",
    "# Pick one card - king of spades\n",
    "# How much information do you gain from this event?\n",
    "-1*log2(1/4*4/52)"
   ]
  },
  {
   "cell_type": "code",
   "execution_count": 30,
   "metadata": {},
   "outputs": [
    {
     "data": {
      "text/plain": [
       "5.700439718141093"
      ]
     },
     "execution_count": 30,
     "metadata": {},
     "output_type": "execute_result"
    }
   ],
   "source": [
    "# Or calculated additively\n",
    "-1*log2(1/4) + -1*log2(4/52)"
   ]
  },
  {
   "cell_type": "markdown",
   "metadata": {},
   "source": [
    "## Differential Entropy"
   ]
  }
 ],
 "metadata": {
  "kernelspec": {
   "display_name": "cmplxty",
   "language": "python",
   "name": "cmplxty"
  },
  "language_info": {
   "codemirror_mode": {
    "name": "ipython",
    "version": 3
   },
   "file_extension": ".py",
   "mimetype": "text/x-python",
   "name": "python",
   "nbconvert_exporter": "python",
   "pygments_lexer": "ipython3",
   "version": "3.8.0"
  }
 },
 "nbformat": 4,
 "nbformat_minor": 4
}
