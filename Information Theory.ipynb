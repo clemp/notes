{
 "cells": [
  {
   "cell_type": "markdown",
   "metadata": {},
   "source": [
    "Calculate the information entropy of a random variable that showed the following behavior:\n",
    "A, B, B, A, C, B, A, C, A, B, C, A, A, A, A, A, A, A, C, A"
   ]
  },
  {
   "cell_type": "code",
   "execution_count": 16,
   "metadata": {},
   "outputs": [],
   "source": [
    "from math import log2\n",
    "import csv"
   ]
  },
  {
   "cell_type": "code",
   "execution_count": 1,
   "metadata": {},
   "outputs": [],
   "source": [
    "observation = [\"A\", \"B\", \"B\", \"A\", \"C\", \"B\", \"A\", \"C\", \"A\", \"B\", \"C\", \"A\", \"A\", \"A\", \"A\", \"A\", \"A\", \"A\", \"C\", \"A\"]"
   ]
  },
  {
   "cell_type": "markdown",
   "metadata": {},
   "source": [
    "# Expected self-information"
   ]
  },
  {
   "cell_type": "code",
   "execution_count": 10,
   "metadata": {},
   "outputs": [
    {
     "data": {
      "text/plain": [
       "{'C': 0.2, 'A': 0.6, 'B': 0.2}"
      ]
     },
     "execution_count": 10,
     "metadata": {},
     "output_type": "execute_result"
    }
   ],
   "source": [
    "# Calculate probability of each occurence\n",
    "probabilities = dict((x, observation.count(x)/len(observation)) for x in set(observation))\n",
    "probabilities"
   ]
  },
  {
   "cell_type": "code",
   "execution_count": 12,
   "metadata": {},
   "outputs": [],
   "source": [
    "# Create self-information function\n",
    "def H(x):\n",
    "    \"\"\"\n",
    "    x: probability space\n",
    "    \"\"\"\n",
    "    self_information = -1*sum([p*log2(p) for p in x])\n",
    "    return self_information"
   ]
  },
  {
   "cell_type": "code",
   "execution_count": 15,
   "metadata": {},
   "outputs": [
    {
     "data": {
      "text/plain": [
       "1.3709505944546687"
      ]
     },
     "execution_count": 15,
     "metadata": {},
     "output_type": "execute_result"
    }
   ],
   "source": [
    "prob_space = [v for v in probabilities.values()]\n",
    "H(prob_space)"
   ]
  },
  {
   "cell_type": "markdown",
   "metadata": {},
   "source": [
    "## Entropy of a dataset"
   ]
  },
  {
   "cell_type": "code",
   "execution_count": 35,
   "metadata": {},
   "outputs": [
    {
     "name": "stdout",
     "output_type": "stream",
     "text": [
      "Num. rows read: 20\n",
      "First 3 entries: ﻿Year: ['2001', '2002', '2003']\n",
      "First 3 entries: X (American): ['Yankees', 'Angels', 'Yankees']\n",
      "First 3 entries: Y (National): ['Diamondbacks', 'Giants', 'Marlins']\n"
     ]
    }
   ],
   "source": [
    "rows = 0\n",
    "with open('./data/world-series.csv', mode='r', encoding='utf-8') as f:\n",
    "    reader = csv.reader(f, delimiter=',')\n",
    "    # store column names\n",
    "    headers = next(reader, None)\n",
    "#     print(headers)\n",
    "    \n",
    "    # store data\n",
    "    column = dict()\n",
    "    for h in headers:\n",
    "        column[h] = []\n",
    "    \n",
    "    for row in reader:\n",
    "        for h, v in zip(headers, row):\n",
    "            column[h].append(v)\n",
    "        rows+=1\n",
    "f.close()\n",
    "print(\"Num. rows read:\", rows)\n",
    "print(\"First 3 entries: \\ufeffYear:\", column['\\ufeffYear'][:3])\n",
    "print(\"First 3 entries: X (American):\", column['X (American)'][:3])\n",
    "print(\"First 3 entries: Y (National):\", column['Y (National)'][:3])"
   ]
  },
  {
   "cell_type": "markdown",
   "metadata": {},
   "source": [
    "### Amount of uncertainty in American MLB league from 2001 - 2020"
   ]
  },
  {
   "cell_type": "code",
   "execution_count": 70,
   "metadata": {},
   "outputs": [
    {
     "name": "stdout",
     "output_type": "stream",
     "text": [
      "Num. American League teams: 10\n",
      "Tally of wins:\n",
      "{'Indians': 1, 'Red Sox': 4, 'White Sox': 1, 'Angels': 1, 'Yankees': 3, 'Rangers': 2, 'Tigers': 2, 'Astros': 2, 'Rays': 2, 'Royals': 2} \n",
      "\n",
      "3.1841837197791882\n"
     ]
    }
   ],
   "source": [
    "counts_X = [column[\"X (American)\"].count(v) for v in list(set(column[\"X (American)\"]))]\n",
    "# counts = [column[\"Y (National)\"].count(v) for v in list(set(column[\"Y (National)\"]))]\n",
    "\n",
    "print(\"Num. American League teams:\", len(list(set(column[\"X (American)\"]))))\n",
    "print(\"Tally of wins:\")\n",
    "print({v:column[\"X (American)\"].count(v) for v in list(set(column[\"X (American)\"]))}, \"\\n\")\n",
    "\n",
    "y_entropy = -1*sum([p*log2(p) for p in [count/sum(counts_X) for count in counts_X]])\n",
    "print(y_entropy)"
   ]
  },
  {
   "cell_type": "code",
   "execution_count": 53,
   "metadata": {},
   "outputs": [
    {
     "data": {
      "text/plain": [
       "9.08939153177016"
      ]
     },
     "execution_count": 53,
     "metadata": {},
     "output_type": "execute_result"
    }
   ],
   "source": [
    "# Effective number of teams\n",
    "pow(2, y_entropy)"
   ]
  },
  {
   "cell_type": "markdown",
   "metadata": {},
   "source": [
    "### Joint Entropy of a dataset"
   ]
  }
 ],
 "metadata": {
  "kernelspec": {
   "display_name": "cmplxty",
   "language": "python",
   "name": "cmplxty"
  },
  "language_info": {
   "codemirror_mode": {
    "name": "ipython",
    "version": 3
   },
   "file_extension": ".py",
   "mimetype": "text/x-python",
   "name": "python",
   "nbconvert_exporter": "python",
   "pygments_lexer": "ipython3",
   "version": "3.8.0"
  }
 },
 "nbformat": 4,
 "nbformat_minor": 4
}
