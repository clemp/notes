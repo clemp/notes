{
 "cells": [
  {
   "cell_type": "markdown",
   "metadata": {},
   "source": [
    "# Linear Algebra"
   ]
  },
  {
   "cell_type": "code",
   "execution_count": 1,
   "metadata": {},
   "outputs": [],
   "source": [
    "import numpy as np"
   ]
  },
  {
   "cell_type": "code",
   "execution_count": 21,
   "metadata": {},
   "outputs": [
    {
     "name": "stdout",
     "output_type": "stream",
     "text": [
      "Matrix A:\n",
      " [[0.61667916 0.27916545 0.12567557 0.31564754]\n",
      " [0.99690027 0.42309306 0.11248296 0.98173022]\n",
      " [0.71999646 0.99945714 0.40981154 0.59635547]]\n",
      "Matrix B:\n",
      " [[0.08731764 0.64646565 0.1383629  0.82447867]\n",
      " [0.90655068 0.37345792 0.40047036 0.61835924]\n",
      " [0.85632557 0.2508     0.53510871 0.94449822]]\n"
     ]
    }
   ],
   "source": [
    "np.random.seed(315) # set random seed to reproduce results\n",
    "# Creating a random 3x4 matrix\n",
    "print(\"Matrix A:\\n\", A)\n",
    "A = np.random.rand(3, 4)\n",
    "print(\"Matrix B:\\n\", B)\n",
    "B = np.random.rand(3, 4)"
   ]
  },
  {
   "cell_type": "markdown",
   "metadata": {},
   "source": [
    "## Slicing the Matrix"
   ]
  },
  {
   "cell_type": "code",
   "execution_count": 32,
   "metadata": {},
   "outputs": [
    {
     "data": {
      "text/plain": [
       "array([[0.61667916, 0.27916545]])"
      ]
     },
     "execution_count": 32,
     "metadata": {},
     "output_type": "execute_result"
    }
   ],
   "source": [
    "# Take row 0 to 1 (not inclusive) and column 0 to 2 (not inclusive)\n",
    "A[0:1, 0:2]"
   ]
  },
  {
   "cell_type": "markdown",
   "metadata": {},
   "source": [
    "## Select random rows or columns\n"
   ]
  },
  {
   "cell_type": "code",
   "execution_count": 75,
   "metadata": {},
   "outputs": [
    {
     "name": "stdout",
     "output_type": "stream",
     "text": [
      "random rows: [2 1]\n"
     ]
    },
    {
     "data": {
      "text/plain": [
       "array([[0.71999646, 0.99945714, 0.40981154, 0.59635547],\n",
       "       [0.99690027, 0.42309306, 0.11248296, 0.98173022]])"
      ]
     },
     "execution_count": 75,
     "metadata": {},
     "output_type": "execute_result"
    }
   ],
   "source": [
    "rows = np.random.choice(range(3), 2, replace = False)\n",
    "print(\"random rows:\", rows)\n",
    "A[rows]"
   ]
  }
 ],
 "metadata": {
  "kernelspec": {
   "display_name": "cmplxty",
   "language": "python",
   "name": "cmplxty"
  },
  "language_info": {
   "codemirror_mode": {
    "name": "ipython",
    "version": 3
   },
   "file_extension": ".py",
   "mimetype": "text/x-python",
   "name": "python",
   "nbconvert_exporter": "python",
   "pygments_lexer": "ipython3",
   "version": "3.8.0"
  }
 },
 "nbformat": 4,
 "nbformat_minor": 4
}
