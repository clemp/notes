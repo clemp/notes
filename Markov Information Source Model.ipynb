{
 "cells": [
  {
   "cell_type": "markdown",
   "metadata": {},
   "source": [
    "# Markov Information Source Model"
   ]
  },
  {
   "cell_type": "markdown",
   "metadata": {},
   "source": [
    "Example from Dr. Hiroki Sayama's Computational Tools course\n",
    "SSIE500, Binghamton University, 2020"
   ]
  },
  {
   "cell_type": "markdown",
   "metadata": {},
   "source": [
    "<img src=\"images/markov-weather.png\">"
   ]
  },
  {
   "cell_type": "code",
   "execution_count": 48,
   "metadata": {},
   "outputs": [],
   "source": [
    "import numpy as np\n",
    "from math import log2"
   ]
  },
  {
   "cell_type": "markdown",
   "metadata": {},
   "source": [
    "| | Sunny | Cloudy | Rainy |\n",
    "|--|--|--|--|\n",
    "|Sunny|0.6|0.3|0.3|\n",
    "|Cloudy|0.3|0.4|0.5|\n",
    "|Rainy|0.1|0.3|0.2|"
   ]
  },
  {
   "cell_type": "code",
   "execution_count": 3,
   "metadata": {},
   "outputs": [],
   "source": [
    "# First row: incoming probabilities to Sunny\n",
    "# Second row: incoming probabilities to Cloudy\n",
    "# Third row: incoming probabilities to Rainy\n",
    "tpm = np.array([\n",
    "    [0.6, 0.3, 0.3],\n",
    "    [0.3, 0.4, 0.5],\n",
    "    [0.1, 0.3, 0.2]\n",
    "])"
   ]
  },
  {
   "cell_type": "code",
   "execution_count": 24,
   "metadata": {},
   "outputs": [
    {
     "name": "stdout",
     "output_type": "stream",
     "text": [
      "(array([ 1. ,  0.3, -0.1]), array([[-7.10870190e-01, -8.16496581e-01,  1.08367999e-16],\n",
      "       [-6.24704106e-01,  4.08248290e-01, -7.07106781e-01],\n",
      "       [-3.23122814e-01,  4.08248290e-01,  7.07106781e-01]]))\n"
     ]
    }
   ],
   "source": [
    "# Calculate eigenvalues\n",
    "eigensystem = np.linalg.eig(tpm)\n",
    "print(eigensystem)"
   ]
  },
  {
   "cell_type": "code",
   "execution_count": 25,
   "metadata": {},
   "outputs": [],
   "source": [
    "# np.linalg.eigh(tpm)"
   ]
  },
  {
   "cell_type": "code",
   "execution_count": 26,
   "metadata": {},
   "outputs": [
    {
     "name": "stdout",
     "output_type": "stream",
     "text": [
      "[-0.71087019 -0.62470411 -0.32312281]\n"
     ]
    }
   ],
   "source": [
    "# Take the dominant eigenvector (vector which corresponds to eigenvalue 1)\n",
    "eigenvector = eigensystem[1][:,0]\n",
    "print(eigenvector)"
   ]
  },
  {
   "cell_type": "code",
   "execution_count": 46,
   "metadata": {},
   "outputs": [
    {
     "name": "stdout",
     "output_type": "stream",
     "text": [
      "Long run probability distribution:\n",
      "[0.42857142857142855, 0.3766233766233766, 0.19480519480519481]\n"
     ]
    }
   ],
   "source": [
    "# Normalize to make a probability distribution (sums to 1).\n",
    "# This will be the long term probability distribution.\n",
    "print(\"Long run probability distribution:\")\n",
    "print([e/sum(eigenvector) for e in eigenvector])\n",
    "probs = [e/sum(eigenvector) for e in eigenvector]"
   ]
  },
  {
   "cell_type": "code",
   "execution_count": 45,
   "metadata": {},
   "outputs": [
    {
     "data": {
      "text/plain": [
       "array([0.42996, 0.37593, 0.19411])"
      ]
     },
     "execution_count": 45,
     "metadata": {},
     "output_type": "execute_result"
    }
   ],
   "source": [
    "# Today is sunny\n",
    "v = np.array([1, 0, 0])\n",
    "# Probability distribution 5 days from now (dot product 5 times)\n",
    "tpm.dot(tpm.dot(tpm.dot(tpm.dot(tpm.dot(v)))))"
   ]
  },
  {
   "cell_type": "code",
   "execution_count": 47,
   "metadata": {},
   "outputs": [
    {
     "data": {
      "text/plain": [
       "[('S', 0.42857142857142855),\n",
       " ('C', 0.3766233766233766),\n",
       " ('R', 0.19480519480519481)]"
      ]
     },
     "execution_count": 47,
     "metadata": {},
     "output_type": "execute_result"
    }
   ],
   "source": [
    "# Generate a sequence of weather\n",
    "# weather_dist = list(zip([\"S\", \"C\", \"R\"], probs))\n",
    "list(zip([\"S\", \"C\", \"R\"], probs))"
   ]
  },
  {
   "cell_type": "markdown",
   "metadata": {},
   "source": [
    "## Calculating Entropy of Markov Information Source"
   ]
  },
  {
   "cell_type": "code",
   "execution_count": 51,
   "metadata": {},
   "outputs": [
    {
     "data": {
      "text/plain": [
       "1.5"
      ]
     },
     "execution_count": 51,
     "metadata": {},
     "output_type": "execute_result"
    }
   ],
   "source": [
    "def entropy(x_):\n",
    "    return sum([-1.0*p*log2(p) for p in x_])\n",
    "\n",
    "entropy([0.5, 0.25, 0.25])"
   ]
  },
  {
   "cell_type": "code",
   "execution_count": 55,
   "metadata": {},
   "outputs": [
    {
     "data": {
      "text/plain": [
       "array([1.29546184, 1.57095059, 1.4854753 ])"
      ]
     },
     "execution_count": 55,
     "metadata": {},
     "output_type": "execute_result"
    }
   ],
   "source": [
    "# Transpose the transition probability matrix\n",
    "tpm_T = np.transpose(tpm)\n",
    "\n",
    "h = np.apply_along_axis(entropy, 1, tpm_T)\n",
    "h\n",
    "# If today's weather is sunny, you have 1.29 bits of uncertainty for tomorrow's weather\n",
    "# If today's weather is rainy, you have 1.57 bits of uncertainty for tomorrow's weather\n",
    "# If today's weather is cloudy, you have 1.48 bits of uncertainty for tomorrow's weather"
   ]
  },
  {
   "cell_type": "code",
   "execution_count": 60,
   "metadata": {},
   "outputs": [
    {
     "name": "stdout",
     "output_type": "stream",
     "text": [
      "The amount of entropy this system produces:\n",
      "(Expected value of state entropy)\n"
     ]
    },
    {
     "data": {
      "text/plain": [
       "1.4362329552916886"
      ]
     },
     "execution_count": 60,
     "metadata": {},
     "output_type": "execute_result"
    }
   ],
   "source": [
    "# Final entropy\n",
    "print(\"The amount of entropy this system produces:\")\n",
    "print(\"(Expected value of state entropy)\")\n",
    "h.dot(probs)"
   ]
  }
 ],
 "metadata": {
  "kernelspec": {
   "display_name": "cmplxty",
   "language": "python",
   "name": "cmplxty"
  },
  "language_info": {
   "codemirror_mode": {
    "name": "ipython",
    "version": 3
   },
   "file_extension": ".py",
   "mimetype": "text/x-python",
   "name": "python",
   "nbconvert_exporter": "python",
   "pygments_lexer": "ipython3",
   "version": "3.8.0"
  }
 },
 "nbformat": 4,
 "nbformat_minor": 4
}
