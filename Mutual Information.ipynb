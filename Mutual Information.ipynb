{
 "cells": [
  {
   "cell_type": "code",
   "execution_count": 3,
   "metadata": {},
   "outputs": [],
   "source": [
    "from matplotlib import pyplot as plt\n",
    "from math import log2\n",
    "import numpy as np\n",
    "import seaborn as sns\n",
    "import csv"
   ]
  },
  {
   "cell_type": "markdown",
   "metadata": {},
   "source": [
    "# Mutual Information"
   ]
  },
  {
   "cell_type": "markdown",
   "metadata": {},
   "source": [
    "Considering multiple variables simultaneously"
   ]
  },
  {
   "cell_type": "code",
   "execution_count": 176,
   "metadata": {},
   "outputs": [
    {
     "name": "stdout",
     "output_type": "stream",
     "text": [
      "Num. rows read: 20\n",
      "First 3 entries: ﻿Year: ['2001', '2002', '2003']\n",
      "First 3 entries: X (American): ['Yankees', 'Angels', 'Yankees']\n",
      "First 3 entries: Y (National): ['Diamondbacks', 'Giants', 'Marlins']\n"
     ]
    }
   ],
   "source": [
    "rows = 0\n",
    "with open('./data/world-series.csv', mode='r', encoding='utf-8') as f:\n",
    "    reader = csv.reader(f, delimiter=',')\n",
    "    # store column names\n",
    "    headers = next(reader, None)\n",
    "#     print(headers)\n",
    "    \n",
    "    # store data\n",
    "    column = dict()\n",
    "    for h in headers:\n",
    "        column[h] = []\n",
    "    \n",
    "    for row in reader:\n",
    "        for h, v in zip(headers, row):\n",
    "            column[h].append(v)\n",
    "        rows+=1\n",
    "f.close()\n",
    "print(\"Num. rows read:\", rows)\n",
    "print(\"First 3 entries: \\ufeffYear:\", column['\\ufeffYear'][:3])\n",
    "print(\"First 3 entries: X (American):\", column['X (American)'][:3])\n",
    "print(\"First 3 entries: Y (National):\", column['Y (National)'][:3])"
   ]
  },
  {
   "cell_type": "code",
   "execution_count": 36,
   "metadata": {},
   "outputs": [
    {
     "name": "stdout",
     "output_type": "stream",
     "text": [
      "P(Rays):\t 0.1\n"
     ]
    }
   ],
   "source": [
    "# P(Rays)\n",
    "# Rays\n",
    "rays = len([team for team in column['X (American)'] if team == 'Rays'])\n",
    "n = len(column['X (American)'])\n",
    "print(\"P(Rays):\\t\", rays/n)\n",
    "del rays\n",
    "del n"
   ]
  },
  {
   "cell_type": "code",
   "execution_count": 35,
   "metadata": {},
   "outputs": [
    {
     "name": "stdout",
     "output_type": "stream",
     "text": [
      "P(Rays, Dodgers):\t 0.05\n"
     ]
    }
   ],
   "source": [
    "# P(Rays, Dodgers)\n",
    "xy = list(zip(column['X (American)'], column['Y (National)']))\n",
    "raysdodgers = len([team for team in xy if team == ('Rays', 'Dodgers')])\n",
    "n = len(xy)\n",
    "print(\"P(Rays, Dodgers):\\t\", raysdodgers/n)\n",
    "del xy\n",
    "del raysdodgers\n",
    "del n"
   ]
  },
  {
   "cell_type": "code",
   "execution_count": 45,
   "metadata": {},
   "outputs": [
    {
     "name": "stdout",
     "output_type": "stream",
     "text": [
      "P(Rays | Dodgers):\t 0.3333333333333333\n"
     ]
    }
   ],
   "source": [
    "# P(Rays | Dodgers)\n",
    "xy = list(zip(column['X (American)'], column['Y (National)']))\n",
    "dodgers_y = [team for team in xy if team[1] == 'Dodgers']\n",
    "rays_x_dodgers_y = [team for team in dodgers_y if team[0] == 'Rays'] \n",
    "n = len(dodgers_y)\n",
    "print(\"P(Rays | Dodgers):\\t\", len(rays_x_dodgers_y)/n)\n",
    "del xy\n",
    "del dodgers_y\n",
    "del rays_x_dodgers_y\n",
    "del n"
   ]
  },
  {
   "cell_type": "code",
   "execution_count": 48,
   "metadata": {},
   "outputs": [
    {
     "name": "stdout",
     "output_type": "stream",
     "text": [
      "P(Dodgers | Rays):\t 0.5\n"
     ]
    }
   ],
   "source": [
    "# P(Dodgers | Rays)\n",
    "xy = list(zip(column['X (American)'], column['Y (National)']))\n",
    "rays_y = [team for team in xy if team[0] == 'Rays']\n",
    "dodgers_x_rays_y = [team for team in rays_y if team[1] == 'Dodgers'] \n",
    "n = len(rays_y)\n",
    "print(\"P(Dodgers | Rays):\\t\", len(dodgers_x_rays_y)/n)\n",
    "del xy\n",
    "del rays_y\n",
    "del dodgers_x_rays_y\n",
    "del n"
   ]
  },
  {
   "cell_type": "markdown",
   "metadata": {},
   "source": [
    "## Joint Entropy"
   ]
  },
  {
   "cell_type": "code",
   "execution_count": 88,
   "metadata": {},
   "outputs": [
    {
     "name": "stdout",
     "output_type": "stream",
     "text": [
      "Entropy:\t 4.221928094887362\n"
     ]
    }
   ],
   "source": [
    "# Entropy for joint pairs of teams\n",
    "xy = list(zip(column['X (American)'], column['Y (National)']))\n",
    "counts = list({v:xy.count(v) for v in xy}.values())\n",
    "entropy = sum([-1*(p/sum(counts))*log2(p/sum(counts)) for p in counts])\n",
    "print(\"Entropy:\\t\", entropy)\n",
    "del xy\n",
    "del counts\n",
    "del entropy"
   ]
  },
  {
   "cell_type": "code",
   "execution_count": 89,
   "metadata": {},
   "outputs": [
    {
     "data": {
      "text/plain": [
       "4.321928094887363"
      ]
     },
     "execution_count": 89,
     "metadata": {},
     "output_type": "execute_result"
    }
   ],
   "source": [
    "# Entropy if all teams were equally likely\n",
    "xy = list(zip(column['X (American)'], column['Y (National)']))\n",
    "log2(len(xy))"
   ]
  },
  {
   "cell_type": "markdown",
   "metadata": {},
   "source": [
    "## Conditional Entropy\n",
    "Expected entropy of Y when a specific event occurred in X"
   ]
  },
  {
   "cell_type": "code",
   "execution_count": 124,
   "metadata": {},
   "outputs": [
    {
     "name": "stdout",
     "output_type": "stream",
     "text": [
      "len xy:\t 20\n",
      "pjoint:\t 0.1\n"
     ]
    },
    {
     "data": {
      "text/plain": [
       "0.1"
      ]
     },
     "execution_count": 124,
     "metadata": {},
     "output_type": "execute_result"
    }
   ],
   "source": [
    "# Joint probability\n",
    "x = 'Red Sox'\n",
    "y = 'Cardinals'\n",
    "xy = list(zip(column['X (American)'], column['Y (National)']))\n",
    "pjoint = len([(teams[0], teams[1]) for teams in xy if teams == (x, y)])/len(xy)\n",
    "print(\"len xy:\\t\", len(xy))\n",
    "print(\"pjoint:\\t\", pjoint)\n",
    "del x, y, xy, pjoint\n",
    "\n",
    "# Make a function of it\n",
    "x = 'Red Sox'\n",
    "y = 'Cardinals'\n",
    "X = column['X (American)']\n",
    "Y = column['Y (National)']\n",
    "\n",
    "def pjoint(x_, y_, X_, Y_):\n",
    "    xy = list(zip(X_, Y_))\n",
    "    n_xy = len(xy)\n",
    "    \n",
    "    joint_xy = [(x, y) for (x, y) in xy if (x, y) == (x_, y_)]\n",
    "    prob_joint_xy = len(joint_xy)/n_xy\n",
    "    return prob_joint_xy\n",
    "\n",
    "pjoint(x, y, X, Y)"
   ]
  },
  {
   "cell_type": "code",
   "execution_count": 118,
   "metadata": {},
   "outputs": [
    {
     "name": "stdout",
     "output_type": "stream",
     "text": [
      "x_events:\t [('Red Sox', 'Cardinals'), ('Red Sox', 'Rockies'), ('Red Sox', 'Cardinals'), ('Red Sox', 'Dodgers')]\n",
      "y_cond_x:\t [('Red Sox', 'Cardinals'), ('Red Sox', 'Cardinals')]\n",
      "p(y|x):\t 0.5\n"
     ]
    },
    {
     "data": {
      "text/plain": [
       "0.5"
      ]
     },
     "execution_count": 118,
     "metadata": {},
     "output_type": "execute_result"
    }
   ],
   "source": [
    "# Conditional probability of y, given x\n",
    "x = 'Red Sox'\n",
    "y = 'Cardinals'\n",
    "\n",
    "xy = list(zip(column['X (American)'], column['Y (National)']))\n",
    "x_events = [teams for teams in xy if teams[0] == x]\n",
    "y_cond_x = [teams for teams in x_events if teams[1] == y]\n",
    "print(\"x_events:\\t\", x_events)\n",
    "print(\"y_cond_x:\\t\", y_cond_x)\n",
    "prob_y_cond_x = len(y_cond_x)/len(x_events)\n",
    "print(\"p(y|x):\\t\", prob_y_cond_x)\n",
    "del x, y, xy, x_events, y_cond_x, prob_y_cond_x\n",
    "\n",
    "# Make a function of it\n",
    "def pcond(y_, x_, Y_, X_):\n",
    "    xy = list(zip(X_, Y_))\n",
    "#     n_xy = len(xy)\n",
    "    \n",
    "    x_events = [x for x in xy if x[0] == x_]\n",
    "    y_cond_x = [y for y in x_events if y[1] == y_]\n",
    "    prob_y_cond_x = len(y_cond_x)/len(x_events)\n",
    "    return prob_y_cond_x\n",
    "    \n",
    "pcond('Cardinals', 'Red Sox', Y_ = column['Y (National)'], X_ = column['X (American)'])"
   ]
  },
  {
   "cell_type": "code",
   "execution_count": 174,
   "metadata": {},
   "outputs": [
    {
     "name": "stdout",
     "output_type": "stream",
     "text": [
      "Conditional entropy H(Y|X):\t 1.0377443751081736\n"
     ]
    }
   ],
   "source": [
    "# Conditional entropy of y, given x \n",
    "# H(Y|X)\n",
    "xy = list(zip(column['X (American)'], column['Y (National)']))\n",
    "X = [xy[0] for xy in xy]\n",
    "Y = [xy[1] for xy in xy]\n",
    "\n",
    "def entropy_cond(Y_, X_):\n",
    "    xy = list(zip(X_, Y_))\n",
    "    \n",
    "    # Initialize entropy to zero.\n",
    "    entropy = 0\n",
    "    \n",
    "    for y in list(set(Y_)):\n",
    "        for x in list(set(X_)):\n",
    "            pjoint_xy = pjoint(x, y, X_, Y_)\n",
    "            pcond_yx = pcond(y, x, Y_, X_)\n",
    "            if pcond_yx != 0:\n",
    "#                 print(\"x:\", x, \"y:\", y)\n",
    "#                 print(\"pjoint_xy:\\t\", pjoint_xy)\n",
    "#                 print(\"pcond_yx:\\t\", pcond_yx)\n",
    "#                 print(\"log2(pcond_yx):\\t\",log2(pcond_yx))\n",
    "#                 print(\"-1*pjoint_xy*log2(pcond_yx):\", -1*pjoint_xy*log2(pcond_yx))\n",
    "#                 print(\"\")\n",
    "                entropy += -1*pjoint_xy*log2(pcond_yx)\n",
    "\n",
    "            else:\n",
    "                pass\n",
    "    return entropy\n",
    "\n",
    "print(\"Conditional entropy H(Y|X):\\t\", entropy_cond(Y, X))"
   ]
  },
  {
   "cell_type": "markdown",
   "metadata": {},
   "source": [
    "## Mutual information"
   ]
  },
  {
   "cell_type": "code",
   "execution_count": 207,
   "metadata": {},
   "outputs": [
    {
     "name": "stdout",
     "output_type": "stream",
     "text": [
      "x:\n",
      "['Yankees', 'Angels', 'Yankees', 'Red Sox', 'White Sox', 'Tigers', 'Red Sox', 'Rays', 'Yankees', 'Rangers', 'Rangers', 'Tigers', 'Red Sox', 'Royals', 'Royals', 'Indians', 'Astros', 'Red Sox', 'Astros', 'Rays']\n",
      "\n",
      "counts of x:\n",
      "{'Cubs': 1, 'Phillies': 2, 'Giants': 4, 'Cardinals': 4, 'Mets': 1, 'Marlins': 1, 'Diamondbacks': 1, 'Dodgers': 3, 'Nationals': 1, 'Astros': 1, 'Rockies': 1}\n",
      "\n",
      "Entropy of X:\t 3.1841837197791882\n",
      "2^entropy: 9.089391531770154\n"
     ]
    }
   ],
   "source": [
    "y = column['Y (National)']\n",
    "x = column['X (American)']\n",
    "print(\"x:\")\n",
    "print(x)\n",
    "print(\"\\ncounts of x:\")\n",
    "print({team: y.count(team) for team in list(set(y))})\n",
    "\n",
    "x_counts = [x.count(team) for team in list(set(x))]\n",
    "x_probs = [p/sum(x_counts) for p in x_counts]\n",
    "entropy = sum([-1*p*log2(p) for p in x_probs])\n",
    "print(\"\\nEntropy of X:\\t\", entropy)\n",
    "print(\"2^entropy:\", 2**entropy)"
   ]
  },
  {
   "cell_type": "code",
   "execution_count": 206,
   "metadata": {},
   "outputs": [
    {
     "data": {
      "text/plain": [
       "3.184183719779189"
      ]
     },
     "execution_count": 206,
     "metadata": {},
     "output_type": "execute_result"
    }
   ],
   "source": [
    "# Create self-information function\n",
    "# Accepts a list of probabilities of each event\n",
    "def H(probs_):\n",
    "    \"\"\"\n",
    "    probs: probability space\n",
    "    \"\"\"\n",
    "    self_information = sum([-1*p*log2(p) for p in probs_])\n",
    "    return self_information\n",
    "\n",
    "H(x_probs)"
   ]
  },
  {
   "cell_type": "code",
   "execution_count": 221,
   "metadata": {},
   "outputs": [
    {
     "name": "stdout",
     "output_type": "stream",
     "text": [
      "H(X):\t 3.1841837197791882\n",
      "H(Y):\t 3.184183719779189\n",
      "H(XY):\t 4.221928094887362\n"
     ]
    }
   ],
   "source": [
    "xy = list(zip(column['X (American)'], column['Y (National)']))\n",
    "x_counts = [x.count(team) for team in list(set(x))]\n",
    "y_counts = [y.count(team) for team in list(set(y))]\n",
    "xy_counts = [xy.count(teams) for teams in list(set(xy))]\n",
    "# print({teams: xy.count(teams) for teams in list(set(xy))})\n",
    "\n",
    "x_probs = [p/sum(x_counts) for p in x_counts]\n",
    "y_probs = [p/sum(y_counts) for p in y_counts]\n",
    "xy_probs = [p/sum(xy_counts) for p in xy_counts]\n",
    "\n",
    "HX = H(x_probs)\n",
    "print(\"H(X):\\t\", HX)\n",
    "HY = H(y_probs)\n",
    "print(\"H(Y):\\t\", HY)\n",
    "HXY = H(xy_probs)\n",
    "print(\"H(XY):\\t\", HXY)"
   ]
  },
  {
   "cell_type": "code",
   "execution_count": 224,
   "metadata": {},
   "outputs": [
    {
     "name": "stdout",
     "output_type": "stream",
     "text": [
      "Mutual information:\t 2.1464393446710153\n"
     ]
    }
   ],
   "source": [
    "print(\"Mutual information:\\t\", HX + HY - HXY)"
   ]
  }
 ],
 "metadata": {
  "kernelspec": {
   "display_name": "cmplxty",
   "language": "python",
   "name": "cmplxty"
  },
  "language_info": {
   "codemirror_mode": {
    "name": "ipython",
    "version": 3
   },
   "file_extension": ".py",
   "mimetype": "text/x-python",
   "name": "python",
   "nbconvert_exporter": "python",
   "pygments_lexer": "ipython3",
   "version": "3.8.0"
  }
 },
 "nbformat": 4,
 "nbformat_minor": 4
}
